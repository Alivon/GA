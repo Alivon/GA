{
 "cells": [
  {
   "cell_type": "markdown",
   "metadata": {},
   "source": [
    "# GA遗传算法\n",
    "### 导入工具包"
   ]
  },
  {
   "cell_type": "code",
   "execution_count": 1,
   "metadata": {},
   "outputs": [],
   "source": [
    "import numpy as np\n",
    "import json\n",
    "from ipywidgets import interact,widgets\n",
    "import matplotlib.pyplot as plt"
   ]
  },
  {
   "cell_type": "code",
   "execution_count": 2,
   "metadata": {},
   "outputs": [],
   "source": [
    "%matplotlib inline\n",
    "style={'description_width': 'initial'}\n",
    "func_range = widgets.IntRangeSlider(min=-10,max=10,description='定义域',style=style,value=[0,8])\n",
    "y = widgets.Text(value='x + 10 * np.sin(5 * x) + 7 * np.cos(4 * x)',placeholder='Type something',description='函数:',disabled=False,style=style)\n",
    "scatter_x = widgets.IntSlider(min=-5,max=5,description=\"X值：\",style=style)"
   ]
  },
  {
   "cell_type": "markdown",
   "metadata": {},
   "source": [
    "# 自定义适应度函数"
   ]
  },
  {
   "cell_type": "code",
   "execution_count": 3,
   "metadata": {},
   "outputs": [
    {
     "data": {
      "application/vnd.jupyter.widget-view+json": {
       "model_id": "1a8378be233141f6bcc6851dcbff8512",
       "version_major": 2,
       "version_minor": 0
      },
      "text/plain": [
       "HBox(children=(VBox(children=(IntRangeSlider(value=(0, 8), description='定义域', max=10, min=-10, style=SliderSty…"
      ]
     },
     "metadata": {},
     "output_type": "display_data"
    }
   ],
   "source": [
    "def fitness(func_range,y,scatter_x=3):\n",
    "    y1=y\n",
    "    y2=y.replace(\"x\", \"scatter_x\");\n",
    "    x = np.linspace(func_range[0], func_range[1], 300)\n",
    "    plt.suptitle(y)\n",
    "    y = eval(y1)\n",
    "    plt.plot(x,y)\n",
    "    scatter_x = scatter_x\n",
    "    scatter_y = eval(y2)\n",
    "    plt.text(0,3,\"Y={:2f}\".format(scatter_y))\n",
    "    plt.scatter(scatter_x, scatter_y, c='g')\n",
    "    \n",
    "out = widgets.interactive_output(fitness, {'func_range': func_range,\"y\":y,\"scatter_x\":scatter_x})\n",
    "widgets.HBox([widgets.VBox([func_range,y,scatter_x]), out])"
   ]
  },
  {
   "cell_type": "markdown",
   "metadata": {},
   "source": [
    "### 重载适应度函数"
   ]
  },
  {
   "cell_type": "code",
   "execution_count": 4,
   "metadata": {},
   "outputs": [],
   "source": [
    "def fitness(x):\n",
    "    return eval(y.value)"
   ]
  },
  {
   "cell_type": "markdown",
   "metadata": {},
   "source": [
    "#  定义个体类"
   ]
  },
  {
   "cell_type": "code",
   "execution_count": 5,
   "metadata": {},
   "outputs": [],
   "source": [
    "class indivdual:\n",
    "    def __init__(self):\n",
    "        self.x = 0  # 染色体编码\n",
    "        self.fitness = 0  # 适应度值\n",
    "\n",
    "    def __eq__(self, other):  # eq重写\n",
    "        self.x = other.x\n",
    "        self.fitness = other.fitness"
   ]
  },
  {
   "cell_type": "markdown",
   "metadata": {},
   "source": [
    "# 初始化种群"
   ]
  },
  {
   "cell_type": "code",
   "execution_count": 6,
   "metadata": {},
   "outputs": [],
   "source": [
    "def initPopulation(pop, N):\n",
    "    \"\"\"\n",
    "    初始化种群\n",
    "    :param pop: 种群列表\n",
    "    :param N: 种群中个体数量\n",
    "    :return: None\n",
    "    \"\"\"\n",
    "    for i in range(N):\n",
    "        ind = indivdual()\n",
    "        ind.x = np.random.uniform(-5, 5)  # 均有分布随机\n",
    "        ind.fitness = fitness(ind.x)  # 计算适应度\n",
    "        pop.append(ind)"
   ]
  },
  {
   "cell_type": "markdown",
   "metadata": {},
   "source": [
    "#  定义选择过程"
   ]
  },
  {
   "cell_type": "code",
   "execution_count": 7,
   "metadata": {},
   "outputs": [],
   "source": [
    "def selection(N):\n",
    "    \"\"\"\n",
    "    # 种群中随机选择2个个体进行变异（这里没有用轮盘赌，直接用的随机选择）\n",
    "    :param N: 种群中个体数量\n",
    "    :return: None\n",
    "    \"\"\"\n",
    "    return np.random.choice(N, 2)"
   ]
  },
  {
   "cell_type": "markdown",
   "metadata": {},
   "source": [
    "#  定义染色体结合/交叉过程"
   ]
  },
  {
   "cell_type": "code",
   "execution_count": 8,
   "metadata": {},
   "outputs": [],
   "source": [
    "def crossover(parent1, parent2):\n",
    "    \"\"\"\n",
    "    染色体结合/交叉过程\n",
    "    :param parent1: 父亲\n",
    "    :param parent2: 母亲\n",
    "    :return: 孩子1, 孩子2\n",
    "    \"\"\"\n",
    "    child1, child2 = indivdual(), indivdual()\n",
    "    child1.x = 0.9 * parent1.x + 0.1 * parent2.x\n",
    "    child2.x = 0.1 * parent1.x + 0.9 * parent2.x\n",
    "    child1.fitness = fitness(child1.x)\n",
    "    child2.fitness = fitness(child2.x)\n",
    "    return child1, child2"
   ]
  },
  {
   "cell_type": "markdown",
   "metadata": {},
   "source": [
    "# 定义变异/基因突变过程"
   ]
  },
  {
   "cell_type": "code",
   "execution_count": 9,
   "metadata": {},
   "outputs": [],
   "source": [
    "def mutation(pop):\n",
    "    \"\"\"\n",
    "    种群中随机选择一个进行变异\n",
    "    :param pop: \n",
    "    :return: \n",
    "    \"\"\"    \n",
    "    ind = np.random.choice(pop)  # 种群中随机选择一个\n",
    "    ind.x = np.random.uniform(-5, 5)  # 用随机赋值的方式进行变异\n",
    "    ind.fitness = fitness(ind.x)"
   ]
  },
  {
   "cell_type": "markdown",
   "metadata": {},
   "source": [
    "# 执行遗传算法"
   ]
  },
  {
   "cell_type": "code",
   "execution_count": 10,
   "metadata": {},
   "outputs": [],
   "source": [
    "def implement(N, iter_N, cros_prob,muta_prob):\n",
    "    \"\"\"\n",
    "    执行遗传算法\n",
    "    :param N: 种群中个体数量\n",
    "    :param iter_N: 迭代次数\n",
    "    :return: POP, pop_change_list_x, pop_change_list_y\n",
    "    \"\"\"\n",
    "    # 种群\n",
    "    POP = []\n",
    "    # 初始化种群\n",
    "    initPopulation(POP, N)\n",
    "\n",
    "    pop_change_list_x = []  # 记录迭代过程\n",
    "    pop_change_list_y = []  # 记录迭代过程\n",
    "\n",
    "    # 进化过程\n",
    "    for it in range(iter_N):\n",
    "        a, b = selection(N)\n",
    "        if np.random.random() < cros_prob:  # 以cros_prob的概率进行交叉结合\n",
    "            child1, child2 = crossover(POP[a], POP[b])\n",
    "            new = sorted([POP[a], POP[b], child1, child2], key=lambda ind: ind.fitness, reverse=True)  # 根据适应度降序排列\n",
    "            POP[a], POP[b] = new[0], new[1]\n",
    "        # 交叉之后再单独计算变异\n",
    "        if np.random.random() < 0.1:  # 以muta_prob的概率进行变异\n",
    "            mutation(POP)\n",
    "\n",
    "        POP.sort(key=lambda ind: ind.fitness, reverse=True)\n",
    "        pop_change_list_x.append([i.x for i in POP])\n",
    "        pop_change_list_y.append([i.fitness for i in POP])\n",
    "    \n",
    "    \n",
    "    # 导出迭代数据\n",
    "    data_x = json.dumps(pop_change_list_x)\n",
    "    data_y = json.dumps(pop_change_list_y)\n",
    "    with open(\"data_x.json\", \"w\", encoding=\"utf8\") as fp:\n",
    "        json.dump(data_x, fp)\n",
    "    with open(\"data_y.json\", \"w\", encoding=\"utf8\") as fp:\n",
    "        json.dump(data_y, fp)\n",
    "\n",
    "#     return POP, pop_change_list_x, pop_change_list_y"
   ]
  },
  {
   "cell_type": "code",
   "execution_count": 11,
   "metadata": {},
   "outputs": [],
   "source": [
    "N = widgets.IntSlider(min=0,max=30,value=10,description=\"种群数量：\",style=style)\n",
    "iter_N = widgets.IntSlider(min=0,max=500,value=200,description=\"迭代次数：\",style=style)\n",
    "cros_prob = widgets.FloatSlider(min=0,max=1.0,value=0.85,step=0.01,description=\"交叉几率：\",style=style)\n",
    "muta_prob = widgets.FloatSlider(min=0,max=1.0,value=0.1,step=0.01,description=\"变异几率：\",style=style)"
   ]
  },
  {
   "cell_type": "code",
   "execution_count": 12,
   "metadata": {},
   "outputs": [
    {
     "data": {
      "application/vnd.jupyter.widget-view+json": {
       "model_id": "83e1668986db4f5e876f8f4f214cf276",
       "version_major": 2,
       "version_minor": 0
      },
      "text/plain": [
       "HBox(children=(VBox(children=(IntSlider(value=10, description='种群数量：', max=30, style=SliderStyle(description_w…"
      ]
     },
     "metadata": {},
     "output_type": "display_data"
    }
   ],
   "source": [
    "out = widgets.interactive_output(implement, {'N': N,\"iter_N\":iter_N,\"cros_prob\":cros_prob,\"muta_prob\":muta_prob})\n",
    "widgets.HBox([widgets.VBox([N,iter_N,cros_prob,muta_prob]), out])"
   ]
  },
  {
   "cell_type": "code",
   "execution_count": 13,
   "metadata": {},
   "outputs": [],
   "source": [
    "implement(N.value,iter_N.value,cros_prob.value,muta_prob.value)"
   ]
  }
 ],
 "metadata": {
  "kernelspec": {
   "display_name": "Python 3",
   "language": "python",
   "name": "python3"
  },
  "language_info": {
   "codemirror_mode": {
    "name": "ipython",
    "version": 3
   },
   "file_extension": ".py",
   "mimetype": "text/x-python",
   "name": "python",
   "nbconvert_exporter": "python",
   "pygments_lexer": "ipython3",
   "version": "3.6.8"
  }
 },
 "nbformat": 4,
 "nbformat_minor": 2
}
